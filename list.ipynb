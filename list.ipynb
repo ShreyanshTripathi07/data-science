{
 "cells": [
  {
   "cell_type": "markdown",
   "metadata": {},
   "source": [
    "Python collection-\n",
    "* List\n",
    "* tuple\n",
    "* set\n",
    "* dictionary"
   ]
  },
  {
   "cell_type": "code",
   "execution_count": 1,
   "metadata": {},
   "outputs": [],
   "source": [
    "# defining list in python-\n",
    "\n",
    "#List of strings\n",
    "list1 = [\"Nikhlesh\",\"Aman\",\"Rahul\",\"Devansh\",\"Rishabh\"]\n",
    "\n",
    "# list of numbers \n",
    "list2 = [1, 2, 3, 4, 5, 15, 25, 100]\n",
    "\n",
    "\n",
    "# mixed data list\n",
    "list3 = ['Ravi',90, 102, 93, 29, 44, \"B\", False, 5.777]\n",
    "\n",
    "#Nested list\n",
    "list4 = [[1,2,3],[3,4,5,7],[2,1]]"
   ]
  },
  {
   "cell_type": "code",
   "execution_count": 2,
   "metadata": {},
   "outputs": [
    {
     "name": "stdout",
     "output_type": "stream",
     "text": [
      "['Nikhlesh', 'Aman', 'Rahul', 'Devansh', 'Rishabh']\n",
      "[1, 2, 3, 4, 5, 15, 25, 100]\n",
      "['Ravi', 90, 102, 93, 29, 44, 'B', False, 5.777]\n",
      "[[1, 2, 3], [3, 4, 5, 7], [2, 1]]\n"
     ]
    }
   ],
   "source": [
    "print(list1)\n",
    "print(list2)\n",
    "print(list3)\n",
    "print(list4)"
   ]
  },
  {
   "cell_type": "code",
   "execution_count": 4,
   "metadata": {},
   "outputs": [],
   "source": [
    "data = [\n",
    "    'Warbreacker', 'Brander Sanderson','high fantasy','890', '2015', 'Thor', 'codemer'\n",
    "]"
   ]
  },
  {
   "cell_type": "code",
   "execution_count": 5,
   "metadata": {},
   "outputs": [
    {
     "name": "stdout",
     "output_type": "stream",
     "text": [
      "Warbreacker\n"
     ]
    }
   ],
   "source": [
    "print(data[0])"
   ]
  },
  {
   "cell_type": "code",
   "execution_count": 6,
   "metadata": {},
   "outputs": [
    {
     "name": "stdout",
     "output_type": "stream",
     "text": [
      "['Warbreacker', 'Brander Sanderson', 'high fantasy', '890']\n"
     ]
    }
   ],
   "source": [
    "print(data[:-3])"
   ]
  },
  {
   "cell_type": "code",
   "execution_count": 7,
   "metadata": {},
   "outputs": [
    {
     "name": "stdout",
     "output_type": "stream",
     "text": [
      "['codemer', 'Thor', '2015', '890', 'high fantasy', 'Brander Sanderson', 'Warbreacker']\n"
     ]
    }
   ],
   "source": [
    "print(data[::-1])"
   ]
  },
  {
   "cell_type": "code",
   "execution_count": 8,
   "metadata": {},
   "outputs": [
    {
     "name": "stdout",
     "output_type": "stream",
     "text": [
      "['2015', '890', 'Brander Sanderson', 'Thor', 'Warbreacker', 'codemer', 'high fantasy']\n"
     ]
    }
   ],
   "source": [
    "data.sort()\n",
    "print(data)"
   ]
  },
  {
   "cell_type": "code",
   "execution_count": 9,
   "metadata": {},
   "outputs": [
    {
     "name": "stdout",
     "output_type": "stream",
     "text": [
      "['high fantasy', 'codemer', 'Warbreacker', 'Thor', 'Brander Sanderson', '890', '2015']\n"
     ]
    }
   ],
   "source": [
    "data.sort(reverse=True)\n",
    "print(data)"
   ]
  },
  {
   "cell_type": "code",
   "execution_count": 10,
   "metadata": {},
   "outputs": [
    {
     "name": "stdout",
     "output_type": "stream",
     "text": [
      "['2015', '890', 'Brander Sanderson', 'Thor', 'Warbreacker', 'codemer', 'high fantasy']\n"
     ]
    }
   ],
   "source": [
    "data.reverse()\n",
    "print(data)"
   ]
  },
  {
   "cell_type": "code",
   "execution_count": 12,
   "metadata": {},
   "outputs": [
    {
     "data": {
      "text/plain": [
       "5"
      ]
     },
     "execution_count": 12,
     "metadata": {},
     "output_type": "execute_result"
    }
   ],
   "source": [
    "data.index('codemer') # index of the value"
   ]
  },
  {
   "cell_type": "code",
   "execution_count": 15,
   "metadata": {},
   "outputs": [
    {
     "name": "stdout",
     "output_type": "stream",
     "text": [
      "['apple', 'banana', 'cherry', 'guava', 'grapes']\n"
     ]
    }
   ],
   "source": [
    "# Append function\n",
    "\n",
    "fruits = []\n",
    "fruits.append(\"apple\")\n",
    "fruits.append(\"banana\")\n",
    "fruits.append(\"cherry\")\n",
    "fruits.append(\"guava\")\n",
    "fruits.append(\"grapes\")\n",
    "print(fruits)"
   ]
  },
  {
   "cell_type": "code",
   "execution_count": 26,
   "metadata": {},
   "outputs": [
    {
     "name": "stdout",
     "output_type": "stream",
     "text": [
      "['apple', 'orange', 'banana', 'cherry', 'guava', 'grapes']\n"
     ]
    }
   ],
   "source": [
    "#insert function\n",
    "\n",
    "fruits = ['apple', 'banana', 'cherry', 'guava', 'grapes']\n",
    "fruits.insert(1, 'orange')\n",
    "print(fruits)"
   ]
  },
  {
   "cell_type": "code",
   "execution_count": 22,
   "metadata": {},
   "outputs": [],
   "source": [
    "# Extend function   \n",
    "\n"
   ]
  },
  {
   "cell_type": "code",
   "execution_count": 24,
   "metadata": {},
   "outputs": [
    {
     "name": "stdout",
     "output_type": "stream",
     "text": [
      "['guava', 'apple', 'banana']\n"
     ]
    }
   ],
   "source": [
    "# remove function\n",
    "\n",
    "fruits = ['cherry', 'guava', 'apple', 'banana']\n",
    "fruits.remove('cherry')\n",
    "print(fruits)"
   ]
  },
  {
   "cell_type": "code",
   "execution_count": 27,
   "metadata": {},
   "outputs": [
    {
     "name": "stdout",
     "output_type": "stream",
     "text": [
      "banana\n"
     ]
    }
   ],
   "source": [
    "# pop function\n",
    "\n",
    "# by using list.pop() method-\n",
    "fruits = ['cherry', 'guava', 'apple', 'banana']\n",
    "v = fruits.pop()\n",
    "print(v)"
   ]
  }
 ],
 "metadata": {
  "kernelspec": {
   "display_name": "Python 3",
   "language": "python",
   "name": "python3"
  },
  "language_info": {
   "codemirror_mode": {
    "name": "ipython",
    "version": 3
   },
   "file_extension": ".py",
   "mimetype": "text/x-python",
   "name": "python",
   "nbconvert_exporter": "python",
   "pygments_lexer": "ipython3",
   "version": "3.12.2"
  }
 },
 "nbformat": 4,
 "nbformat_minor": 2
}
