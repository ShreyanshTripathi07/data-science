{
 "cells": [
  {
   "cell_type": "code",
   "execution_count": 27,
   "metadata": {},
   "outputs": [],
   "source": [
    "import numpy as np"
   ]
  },
  {
   "cell_type": "markdown",
   "metadata": {},
   "source": [
    "create"
   ]
  },
  {
   "cell_type": "code",
   "execution_count": 28,
   "metadata": {},
   "outputs": [
    {
     "name": "stdout",
     "output_type": "stream",
     "text": [
      "[2 3 1 5]\n",
      "<class 'numpy.ndarray'>\n"
     ]
    }
   ],
   "source": [
    "x1 = np.array([2,3,1,5])\n",
    "print(x1)\n",
    "print(type(x1))"
   ]
  },
  {
   "cell_type": "code",
   "execution_count": 29,
   "metadata": {},
   "outputs": [
    {
     "name": "stdout",
     "output_type": "stream",
     "text": [
      "[[1 2 3]\n",
      " [4 5 6]]\n",
      "<class 'numpy.ndarray'>\n"
     ]
    }
   ],
   "source": [
    "x2 = np.array([\n",
    "    [1,2,3],\n",
    "    [4,5,6]\n",
    "])\n",
    "\n",
    "print(x2)\n",
    "\n",
    "print(type(x2))"
   ]
  },
  {
   "cell_type": "code",
   "execution_count": 30,
   "metadata": {},
   "outputs": [
    {
     "name": "stdout",
     "output_type": "stream",
     "text": [
      "[[[1 2]\n",
      "  [3 4]]\n",
      "\n",
      " [[5 6]\n",
      "  [7 8]]]\n"
     ]
    }
   ],
   "source": [
    "x3 = np.array([[[1,2,],[3,4]],\n",
    "               [[5,6],[7,8]]\n",
    "])\n",
    "print(x3)\n"
   ]
  },
  {
   "cell_type": "code",
   "execution_count": 31,
   "metadata": {},
   "outputs": [
    {
     "name": "stdout",
     "output_type": "stream",
     "text": [
      "[10.  10.5 11.  11.5 12.  12.5 13.  13.5 14.  14.5 15.  15.5 16.  16.5\n",
      " 17.  17.5 18.  18.5 19.  19.5 20.  20.5 21.  21.5 22.  22.5 23.  23.5\n",
      " 24.  24.5 25.  25.5 26.  26.5 27.  27.5 28.  28.5 29.  29.5 30.  30.5\n",
      " 31.  31.5 32.  32.5 33.  33.5 34.  34.5 35.  35.5 36.  36.5 37.  37.5\n",
      " 38.  38.5 39.  39.5 40.  40.5 41.  41.5 42.  42.5 43.  43.5 44.  44.5\n",
      " 45.  45.5 46.  46.5 47.  47.5 48.  48.5 49.  49.5 50.  50.5]\n",
      "(82,)\n"
     ]
    }
   ],
   "source": [
    "a  = np.arange(10, 51, 0.5)\n",
    "\n",
    "print(a)\n",
    "print(a.shape) # gives the numbers of items in the array"
   ]
  },
  {
   "cell_type": "code",
   "execution_count": 32,
   "metadata": {},
   "outputs": [
    {
     "name": "stdout",
     "output_type": "stream",
     "text": [
      "[10.         10.1010101  10.2020202  10.3030303  10.4040404  10.50505051\n",
      " 10.60606061 10.70707071 10.80808081 10.90909091 11.01010101 11.11111111\n",
      " 11.21212121 11.31313131 11.41414141 11.51515152 11.61616162 11.71717172\n",
      " 11.81818182 11.91919192 12.02020202 12.12121212 12.22222222 12.32323232\n",
      " 12.42424242 12.52525253 12.62626263 12.72727273 12.82828283 12.92929293\n",
      " 13.03030303 13.13131313 13.23232323 13.33333333 13.43434343 13.53535354\n",
      " 13.63636364 13.73737374 13.83838384 13.93939394 14.04040404 14.14141414\n",
      " 14.24242424 14.34343434 14.44444444 14.54545455 14.64646465 14.74747475\n",
      " 14.84848485 14.94949495 15.05050505 15.15151515 15.25252525 15.35353535\n",
      " 15.45454545 15.55555556 15.65656566 15.75757576 15.85858586 15.95959596\n",
      " 16.06060606 16.16161616 16.26262626 16.36363636 16.46464646 16.56565657\n",
      " 16.66666667 16.76767677 16.86868687 16.96969697 17.07070707 17.17171717\n",
      " 17.27272727 17.37373737 17.47474747 17.57575758 17.67676768 17.77777778\n",
      " 17.87878788 17.97979798 18.08080808 18.18181818 18.28282828 18.38383838\n",
      " 18.48484848 18.58585859 18.68686869 18.78787879 18.88888889 18.98989899\n",
      " 19.09090909 19.19191919 19.29292929 19.39393939 19.49494949 19.5959596\n",
      " 19.6969697  19.7979798  19.8989899  20.        ]\n"
     ]
    }
   ],
   "source": [
    "b = np.linspace(10, 20, 100)\n",
    "print(b)"
   ]
  },
  {
   "cell_type": "code",
   "execution_count": 33,
   "metadata": {},
   "outputs": [
    {
     "name": "stdout",
     "output_type": "stream",
     "text": [
      "[[-88 -65  28 -61  92]\n",
      " [ 92 -51  71 -35 -47]\n",
      " [-89 -36 -24 -95 -59]\n",
      " [-68 -77  31  96 -53]\n",
      " [-11  34  56  65  95]]\n"
     ]
    }
   ],
   "source": [
    "c = np.random.randint(-100, 100, (5,5))\n",
    "print(c)"
   ]
  },
  {
   "cell_type": "code",
   "execution_count": 34,
   "metadata": {},
   "outputs": [
    {
     "name": "stdout",
     "output_type": "stream",
     "text": [
      "[[2 4 6]\n",
      " [1 3 5]]\n",
      "[[1 2]\n",
      " [5 1]\n",
      " [3 2]]\n",
      "[[40 20]\n",
      " [31 15]]\n"
     ]
    }
   ],
   "source": [
    "a = np.array([\n",
    "    [2,4,6],\n",
    "    [1,3,5],\n",
    "    ])\n",
    "b = np.array([\n",
    "    [1,2],\n",
    "    [5,1],\n",
    "    [3,2]\n",
    "])\n",
    "print(a, b, sep='\\n')\n",
    "print(a@b)"
   ]
  },
  {
   "cell_type": "markdown",
   "metadata": {},
   "source": [
    "properties"
   ]
  },
  {
   "cell_type": "code",
   "execution_count": 35,
   "metadata": {},
   "outputs": [
    {
     "name": "stdout",
     "output_type": "stream",
     "text": [
      "[[2 4 6]\n",
      " [1 3 5]]\n",
      "size\n",
      "6\n",
      "shape\n",
      "(2, 3)\n",
      "dimention\n",
      "2\n",
      "dtype\n",
      "int32\n"
     ]
    }
   ],
   "source": [
    "print(a)\n",
    "print('size')\n",
    "print(a.size )\n",
    "print('shape')\n",
    "print(a.shape)\n",
    "print('dimention')\n",
    "print(a.ndim)\n",
    "print('dtype')\n",
    "print(a.dtype)"
   ]
  },
  {
   "cell_type": "code",
   "execution_count": 36,
   "metadata": {},
   "outputs": [
    {
     "name": "stdout",
     "output_type": "stream",
     "text": [
      "[[71 17 20 76 49]\n",
      " [50 71 81 56 46]\n",
      " [84 88 55 37 62]\n",
      " [56 27 24 37 50]]\n",
      "[[71 17 20 76]\n",
      " [49 50 71 81]\n",
      " [56 46 84 88]\n",
      " [55 37 62 56]\n",
      " [27 24 37 50]]\n",
      "[[71 17 20 76 49 50 71 81 56 46 84 88 55 37 62 56 27 24 37 50]]\n",
      "[[71]\n",
      " [17]\n",
      " [20]\n",
      " [76]\n",
      " [49]\n",
      " [50]\n",
      " [71]\n",
      " [81]\n",
      " [56]\n",
      " [46]\n",
      " [84]\n",
      " [88]\n",
      " [55]\n",
      " [37]\n",
      " [62]\n",
      " [56]\n",
      " [27]\n",
      " [24]\n",
      " [37]\n",
      " [50]]\n",
      "[[71 17 20 76 49 50 71 81 56 46]\n",
      " [84 88 55 37 62 56 27 24 37 50]]\n",
      "[[71 17]\n",
      " [20 76]\n",
      " [49 50]\n",
      " [71 81]\n",
      " [56 46]\n",
      " [84 88]\n",
      " [55 37]\n",
      " [62 56]\n",
      " [27 24]\n",
      " [37 50]]\n"
     ]
    }
   ],
   "source": [
    "x = np.random.randint(10,99, (4,5))\n",
    "print(x)\n",
    "print(x.reshape(5,4))\n",
    "print(x.reshape(1,20))\n",
    "print(x.reshape(20,1))\n",
    "print(x.reshape(2,10))\n",
    "print(x.reshape(10,2))\n"
   ]
  },
  {
   "cell_type": "code",
   "execution_count": 37,
   "metadata": {},
   "outputs": [
    {
     "name": "stdout",
     "output_type": "stream",
     "text": [
      "[71 17 20 76 49 50 71 81 56 46 84 88 55 37 62 56 27 24 37 50]\n"
     ]
    }
   ],
   "source": [
    "print(x.flatten()) # n dimention array to 1 dimention array"
   ]
  },
  {
   "cell_type": "code",
   "execution_count": 38,
   "metadata": {},
   "outputs": [
    {
     "name": "stdout",
     "output_type": "stream",
     "text": [
      "[[72 61]\n",
      " [50 47]\n",
      " [50 97]\n",
      " [62 74]\n",
      " [60 38]]\n"
     ]
    }
   ],
   "source": [
    "y = np.random.randint(10, 99, (5, 2))\n",
    "print(y)"
   ]
  },
  {
   "cell_type": "code",
   "execution_count": 39,
   "metadata": {},
   "outputs": [
    {
     "data": {
      "text/plain": [
       "array([[72, 50, 50, 62, 60],\n",
       "       [61, 47, 97, 74, 38]])"
      ]
     },
     "execution_count": 39,
     "metadata": {},
     "output_type": "execute_result"
    }
   ],
   "source": [
    "y.T"
   ]
  },
  {
   "cell_type": "markdown",
   "metadata": {},
   "source": [
    "maths and stats"
   ]
  },
  {
   "cell_type": "code",
   "execution_count": 40,
   "metadata": {},
   "outputs": [
    {
     "name": "stdout",
     "output_type": "stream",
     "text": [
      "[[3 6]\n",
      " [6 4]]\n",
      "[[ 1  2]\n",
      " [-4  2]]\n",
      "[[2.  2. ]\n",
      " [0.2 3. ]]\n",
      "[[2 8]\n",
      " [5 3]]\n",
      "[[22  8]\n",
      " [16  5]]\n"
     ]
    }
   ],
   "source": [
    "a = np.array([\n",
    "    [2,4],\n",
    "    [1,3]\n",
    "])\n",
    "b = np.array([\n",
    "    [1,2],\n",
    "    [5,1]\n",
    "])\n",
    "#addition \n",
    "print(a + b)\n",
    "#subtraction\n",
    "print(a - b)\n",
    "# division\n",
    "print(a / b)\n",
    "# multiplication\n",
    "print(a * b)\n",
    "#dot product\n",
    "print(a @ b) #matrix multiplication"
   ]
  },
  {
   "cell_type": "code",
   "execution_count": 41,
   "metadata": {},
   "outputs": [
    {
     "name": "stdout",
     "output_type": "stream",
     "text": [
      "[[72 61]\n",
      " [50 47]\n",
      " [50 97]\n",
      " [62 74]\n",
      " [60 38]]\n",
      "611\n",
      "[294 317]\n",
      "[133  97 147 136  98]\n",
      "97 38\n",
      "5 9\n"
     ]
    }
   ],
   "source": [
    "print(y)\n",
    "print(y.sum())  # summation of all elements \n",
    "print(y.sum(axis=0)) # summation of each column\n",
    "print(y.sum(axis=1)) # summation of each row\n",
    "\n",
    "# mqx and min \n",
    "print(y.max(), y.min())\n",
    "# argmax and argmin -> information about the index of the max and min\n",
    "print(y.argmax(), y.argmin())"
   ]
  },
  {
   "cell_type": "markdown",
   "metadata": {},
   "source": [
    "slicing\n",
    "  . 1D\n",
    "x[start:stop:step]\n",
    "\n",
    ". 2D array\n",
    "x[rowstart:rowstop:rowstep, colstart:colstop:colstep]"
   ]
  },
  {
   "cell_type": "code",
   "execution_count": 42,
   "metadata": {},
   "outputs": [
    {
     "name": "stdout",
     "output_type": "stream",
     "text": [
      "[[82 70 48 76 31 76 83 66 51 90]\n",
      " [87 74 50 88 59 67 51 49 64 52]\n",
      " [20 31 13 36 71 70 66 73 98 87]\n",
      " [15 62 27 23 65 74 73 90 26 87]\n",
      " [31 43 76 52 41 80 39 80 80 35]\n",
      " [40 34 19 96 54 61 93 15 81 64]\n",
      " [73 52 25 52 11 81 66 90 25 13]\n",
      " [48 74 78 30 26 96 33 37 52 46]\n",
      " [26 26 74 72 81 30 61 73 44 89]\n",
      " [29 16 73 71 97 81 69 16 29 84]]\n"
     ]
    }
   ],
   "source": [
    "x  =  np.random.randint(10, 100, (10, 10))\n",
    "print(x)"
   ]
  },
  {
   "cell_type": "code",
   "execution_count": 43,
   "metadata": {},
   "outputs": [
    {
     "name": "stdout",
     "output_type": "stream",
     "text": [
      "82\n",
      "84\n",
      "[82 70 48 76 31 76 83 66 51 90]\n",
      "[29 16 73 71 97 81 69 16 29 84]\n"
     ]
    }
   ],
   "source": [
    "print(x[0, 0])  #print first item\n",
    "print(x[-1,-1])   #print last item\n",
    "print(x[0])  # first row\n",
    "print(x[-1]) # last row\n"
   ]
  },
  {
   "cell_type": "code",
   "execution_count": null,
   "metadata": {},
   "outputs": [],
   "source": []
  }
 ],
 "metadata": {
  "kernelspec": {
   "display_name": "Python 3",
   "language": "python",
   "name": "python3"
  },
  "language_info": {
   "codemirror_mode": {
    "name": "ipython",
    "version": 3
   },
   "file_extension": ".py",
   "mimetype": "text/x-python",
   "name": "python",
   "nbconvert_exporter": "python",
   "pygments_lexer": "ipython3",
   "version": "3.9.7"
  }
 },
 "nbformat": 4,
 "nbformat_minor": 2
}
